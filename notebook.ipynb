{
 "cells": [
  {
   "attachments": {},
   "cell_type": "markdown",
   "metadata": {
    "vscode": {
     "languageId": "plaintext"
    }
   },
   "source": [
    "<p align=\"center\">\n",
    "  <img width=\"460\" height=\"300\" src=https://pbs.twimg.com/profile_images/1587110309512318977/9mlU0m4Z_400x400.jpg>\n",
    "</p>\n",
    "<h1 align=\"center\">Reconociendo las Estructuras de Datos Lineales</h1>  \n",
    "<h3 align=\"center\">Carlos Fernando Jiménez Malagón</h3>\n",
    "<h3 align=\"center\">Andrés Felipe Zuluaga Garzón</h3>\n",
    "<h3 align=\"center\">Miguel Ángel Romero Romero</h3>\n",
    "<h3 align=\"center\">Docente: William Ruíz Martínez</h3>\n",
    "<h3 align=\"center\">Facultad de Ingeniería, Ingeniería de Software</h3>\n",
    "<h3 align=\"center\">Corporación Universitaria Iberoamericana</h3>\n",
    "<h3 align=\"center\">Mayo 2023</h3>\n",
    "\n"
   ]
  },
  {
   "attachments": {},
   "cell_type": "markdown",
   "metadata": {
    "vscode": {
     "languageId": "plaintext"
    }
   },
   "source": [
    "from collections import deque\n",
    "\n",
    "class Cola:\n",
    "    def __init__(self):\n",
    "        self.items = deque()\n",
    "\n",
    "    def esta_vacia(self):\n",
    "        return len(self.items) == 0\n",
    "\n",
    "    def encolar(self, item):\n",
    "        self.items.append(item)\n",
    "\n",
    "    def desencolar(self):\n",
    "        if not self.esta_vacia():\n",
    "            return self.items.popleft()\n",
    "\n",
    "    def ver_frente(self):\n",
    "        if not self.esta_vacia():\n",
    "            return self.items[0]\n"
   ]
  },
  {
   "attachments": {},
   "cell_type": "markdown",
   "metadata": {
    "vscode": {
     "languageId": "plaintext"
    }
   },
   "source": [
    "Cola:\n",
    "Una cola es una estructura de datos en la que el primer elemento en ingresar es el primero en ser eliminado (FIFO - First In, First Out). Puedes implementar una cola utilizando la clase deque del módulo collections de Python."
   ]
  },
  {
   "cell_type": "code",
   "execution_count": null,
   "metadata": {
    "vscode": {
     "languageId": "plaintext"
    }
   },
   "outputs": [],
   "source": [
    "En el caso de la cola, los métodos son los siguientes:\n",
    "\n",
    "__init__(): Inicializa la cola vacía.\n",
    "esta_vacia(): Verifica si la cola está vacía.\n",
    "encolar(item): Agrega un elemento item a la cola.\n",
    "desencolar(): Elimina y devuelve el primer elemento agregado a la cola (el frente).\n",
    "ver_frente(): Devuelve el primer elemento agregado a la cola sin eliminarlo."
   ]
  },
  {
   "attachments": {},
   "cell_type": "markdown",
   "metadata": {
    "vscode": {
     "languageId": "plaintext"
    }
   },
   "source": [
    "class Pila:\n",
    "    def __init__(self):\n",
    "        self.items = []\n",
    "\n",
    "    def esta_vacia(self):\n",
    "        return len(self.items) == 0\n",
    "\n",
    "    def apilar(self, item):\n",
    "        self.items.append(item)\n",
    "\n",
    "    def desapilar(self):\n",
    "        if not self.esta_vacia():\n",
    "            return self.items.pop()\n",
    "\n",
    "    def ver_tope(self):\n",
    "        if not self.esta_vacia():\n",
    "            return self.items[-1]\n"
   ]
  },
  {
   "attachments": {},
   "cell_type": "markdown",
   "metadata": {
    "vscode": {
     "languageId": "plaintext"
    }
   },
   "source": [
    "Pila:\n",
    "Una pila es una estructura de datos en la que el último elemento en ingresar es el primero en ser eliminado (LIFO - Last In, First Out). Puedes implementar una pila utilizando la clase list de Python y sus métodos append() y pop().python\n"
   ]
  },
  {
   "attachments": {},
   "cell_type": "markdown",
   "metadata": {},
   "source": [
    "BIBLIOGRAFIAS \n",
    "\n",
    "Documentación oficial de Python: https://docs.python.org/\n",
    "\n",
    "Recurso utilizado para consultar la documentación de las clases y métodos de Python.\n",
    "Documentación de la biblioteca collections de Python: https://docs.python.org/3/library/collections.html\n",
    "\n",
    "Utilizado para obtener información sobre la clase deque utilizada en la implementación de la Cola.\n",
    "Stack Overflow: https://stackoverflow.com/\n",
    "\n",
    "Comunidad en línea de programadores donde se consultaron preguntas y respuestas relacionadas con la implementación de Pilas y Colas en Python."
   ]
  }
 ],
 "metadata": {
  "language_info": {
   "name": "python"
  },
  "orig_nbformat": 4
 },
 "nbformat": 4,
 "nbformat_minor": 2
}
